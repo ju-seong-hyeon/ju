{
 "cells": [
  {
   "cell_type": "code",
   "execution_count": 55,
   "metadata": {},
   "outputs": [],
   "source": [
    "import os\n",
    "import glob\n",
    "from PIL import Image"
   ]
  },
  {
   "cell_type": "code",
   "execution_count": 56,
   "metadata": {},
   "outputs": [
    {
     "name": "stdout",
     "output_type": "stream",
     "text": [
      "42\n"
     ]
    }
   ],
   "source": [
    "#workDIr = os.path.abspath(\"C/Users/SER\\Desktop/data.down/sort/\")\n",
    "workDir = \"C:/Users/USER/Desktop/joo/project/working/poi_colorchange/F6110(2)/\"\n",
    "files = glob.glob(workDir+\"*.*\")\n",
    "print(len(files))\n"
   ]
  },
  {
   "cell_type": "code",
   "execution_count": 57,
   "metadata": {},
   "outputs": [],
   "source": [
    "def calculateSize(files):\n",
    "    size_x = []\n",
    "    size_y = []\n",
    "    \n",
    "    for file in files:\n",
    "        image = Image.open(file)\n",
    "        size_x.append(image.size[0])\n",
    "        size_y.append(image.size[1])\n",
    "    #print(size_x)\n",
    "    #print(size_y)\n",
    "    \n",
    "    x_min = min(size_x)\n",
    "    y_min = min(size_y)\n",
    "    total_x_size = x_min * len(files)\n",
    "    \n",
    "    #print(\"x_min:\", x_min)\n",
    "    #print(\"y_min:\", y_min)\n",
    "    #print(\"total_x_size:\", total_x_size)\n",
    "    return x_min, y_min, total_x_size"
   ]
  },
  {
   "cell_type": "code",
   "execution_count": 58,
   "metadata": {},
   "outputs": [],
   "source": [
    "def resizeToMin(files, x_min, y_min, x_size):\n",
    "    file_list = []\n",
    "    for file in files:\n",
    "        image = Image.open(file)\n",
    "        resized_file = image.resize((x_min, y_min))\n",
    "        file_list.append(resized_file)\n",
    "        #print(resized_file.size)\n",
    "        #resized_file.show()\n",
    "        \n",
    "    return file_list, x_size, x_min, y_min"
   ]
  },
  {
   "cell_type": "code",
   "execution_count": 59,
   "metadata": {},
   "outputs": [],
   "source": [
    "def imageMerge(file_list, x_size, x_min, y_min):\n",
    "    new_image = Image.new(\"RGB\", (x_size, y_min), (15,15,15))\n",
    "    print(\"X_size : \", x_size)\n",
    "    print(len(file_list))\n",
    "    \n",
    "    for index in range(len(file_list)):\n",
    "        area = ((index*x_min), 0, (x_min*(index+1)), y_min)\n",
    "        new_image.paste(file_list[index], area)\n",
    "    \n",
    "        \n",
    "    #new_image.show()\n",
    "    new_image.save(\"C:/Users/USER/Desktop/joo/project/working/poi_merge/F6110(2)_merge2.png\", \"PNG\")\n",
    "    \n",
    "    "
   ]
  },
  {
   "cell_type": "code",
   "execution_count": 60,
   "metadata": {},
   "outputs": [
    {
     "name": "stdout",
     "output_type": "stream",
     "text": [
      "X_size :  630\n",
      "42\n"
     ]
    }
   ],
   "source": [
    "x_min, y_min, x_size = calculateSize(files)\n",
    "file_list, x_size, x_min, y_min = resizeToMin(files, x_min, y_min, x_size)\n",
    "imageMerge(file_list, x_size, x_min, y_min)"
   ]
  },
  {
   "cell_type": "code",
   "execution_count": null,
   "metadata": {},
   "outputs": [],
   "source": []
  },
  {
   "cell_type": "code",
   "execution_count": null,
   "metadata": {},
   "outputs": [],
   "source": [
    "\n",
    "    "
   ]
  },
  {
   "cell_type": "code",
   "execution_count": null,
   "metadata": {},
   "outputs": [],
   "source": []
  },
  {
   "cell_type": "code",
   "execution_count": null,
   "metadata": {},
   "outputs": [],
   "source": []
  }
 ],
 "metadata": {
  "kernelspec": {
   "display_name": "Python 3",
   "language": "python",
   "name": "python3"
  },
  "language_info": {
   "codemirror_mode": {
    "name": "ipython",
    "version": 3
   },
   "file_extension": ".py",
   "mimetype": "text/x-python",
   "name": "python",
   "nbconvert_exporter": "python",
   "pygments_lexer": "ipython3",
   "version": "3.7.5"
  }
 },
 "nbformat": 4,
 "nbformat_minor": 2
}
