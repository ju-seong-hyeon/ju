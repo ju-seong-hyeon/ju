{
 "cells": [
  {
   "cell_type": "code",
   "execution_count": 1,
   "metadata": {},
   "outputs": [],
   "source": [
    "import xml.etree.ElementTree as ET\n",
    "import json\n",
    "import os, glob\n",
    "from collections import OrderedDict"
   ]
  },
  {
   "cell_type": "code",
   "execution_count": 2,
   "metadata": {
    "scrolled": false
   },
   "outputs": [],
   "source": [
    "#folder = r\"C:/Users/USER/Desktop/data.down/annotations/*.xml\"\n",
    "folder = r\"C:/data/dataset/*.xml\"\n",
    "#가상으로 생성된 xml파일의 주소\n",
    "\n",
    "glob.glob(folder)\n",
    "#print(glob.glob(folder))\n",
    "\n",
    "fold = \"C:/data/dataset/\"\n",
    "fold_list = os.listdir(fold)\n",
    "#print(fold_list)"
   ]
  },
  {
   "cell_type": "code",
   "execution_count": 3,
   "metadata": {},
   "outputs": [],
   "source": [
    "#xml subtree 진입 \n",
    "def print_subtree(subtree):\n",
    "    #깊이2 subtree진입, 기호name 받아옴\n",
    "    for y in subtree:\n",
    "        #print(\"\\t\", y.tag, \":\", y.text)\n",
    "        #print(y.text)\n",
    "        name = y.text\n",
    "        poi_name.append(name)\n",
    "\n",
    "        #3 깊이3 subtree진입, x,y값 받아옴\n",
    "        for i in y:\n",
    "            #print(\"\\t\", i.tag, \":\", i.text)\n",
    "            size_list.append(i.text)"
   ]
  },
  {
   "cell_type": "code",
   "execution_count": 4,
   "metadata": {},
   "outputs": [],
   "source": [
    "#변수 초기화\n",
    "file_data = OrderedDict()\n",
    "p_name = \"\"\n",
    "poi_name = []\n",
    "x_list = []\n",
    "y_list = []\n",
    "size_list=[]\n",
    "count = 0\n",
    "count1 =0\n",
    "a=0\n",
    "b=0\n",
    "c=0\n",
    "d=0\n",
    "poi_name1= []\n",
    "ex_num= []\n",
    "xx_list = []\n",
    "yy_list = []\n",
    "poi = ['DT_001', 'DT_002', 'DT_127','DT_131','DT_143', 'DT_150', 'DT_177', 'MD_019', 'SM_100', 'SM_126', 'SM_142']\n",
    "all_count = [0,0,0,0,0,0,0,0,0,0]"
   ]
  },
  {
   "cell_type": "code",
   "execution_count": 5,
   "metadata": {},
   "outputs": [],
   "source": [
    "for i in fold_list:\n",
    "    #print(i)\n",
    "    c = i.split(\".\")\n",
    "    #print(c[0]+\".png\")\n",
    "    "
   ]
  },
  {
   "cell_type": "code",
   "execution_count": null,
   "metadata": {},
   "outputs": [],
   "source": []
  },
  {
   "cell_type": "code",
   "execution_count": 6,
   "metadata": {},
   "outputs": [],
   "source": [
    "for i in glob.glob(folder):\n",
    "    #print(i)\n",
    "    x = i.split('/')\n",
    "    x.reverse()\n",
    "    name = x[0][8:]\n",
    "    \n",
    "    pname = name.split(\".\")\n",
    "    \n",
    "    #print(pname[0]+\".png\")"
   ]
  },
  {
   "cell_type": "code",
   "execution_count": 22,
   "metadata": {},
   "outputs": [
    {
     "name": "stderr",
     "output_type": "stream",
     "text": [
      "C:\\Users\\USER\\Anaconda3\\lib\\site-packages\\ipykernel_launcher.py:32: DeprecationWarning: This method will be removed in future versions.  Use 'list(elem)' or iteration over elem instead.\n"
     ]
    },
    {
     "name": "stdout",
     "output_type": "stream",
     "text": [
      "[325, 314, 338, 238, 724, 509, 106, 342, 342, 740]\n"
     ]
    }
   ],
   "source": [
    "\n",
    "for i in glob.glob(folder):\n",
    "    x = i.split('/')\n",
    "    x.reverse()\n",
    "    name1 = x[0][8:]\n",
    "    \n",
    "    pname = name1.split(\".\")\n",
    "    \n",
    "    #print(pname[0]+\".xml\")\n",
    "    pname = pname[0]+\".png\"\n",
    "    \n",
    "    doc = ET.parse(i)\n",
    "    root = doc.getroot()\n",
    "    \n",
    "    poi_name1.clear()\n",
    "    size_list.clear()\n",
    "    poi_name.clear()\n",
    "    x_list.clear()\n",
    "    y_list.clear()\n",
    "    xx_list.clear()\n",
    "    yy_list.clear()\n",
    "    poi_name.clear()    \n",
    "    ex_num.clear()\n",
    "    count = 0\n",
    "    \n",
    "    for x in root:\n",
    "        #print(x.tag, x.attrib)\n",
    "        print_subtree(x.getchildren())\n",
    "        \n",
    "    for i, name1 in enumerate(poi_name):\n",
    "        for j in poi:\n",
    "            if(name1==j):\n",
    "                poi_name1.append(name1)\n",
    "           \n",
    "    for i, name in enumerate(poi_name1):\n",
    "        #print(i, name)\n",
    "        if(name == 'MD_019'):\n",
    "            ex_num.append(i)\n",
    "    \n",
    "    for i, num in enumerate (size_list):\n",
    "        if(i%2==0):\n",
    "            x_list.append(int(num))\n",
    "        else:\n",
    "            y_list.append(int(num))\n",
    "    \n",
    "    for i, num in enumerate(x_list):\n",
    "        if(i%2==0):\n",
    "            a = num\n",
    "        else :\n",
    "            b = num\n",
    "            if(i>=1):\n",
    "                xx_list.append([a,a,b,b,a])\n",
    "\n",
    "    for i, num in enumerate(y_list):\n",
    "        if(i%2==0):\n",
    "            a = num\n",
    "        else :\n",
    "            b = num\n",
    "            if(i>=1):\n",
    "                yy_list.append([a,b,b,a,a])\n",
    "    \n",
    "    #print(len(poi_name1))\n",
    "    #print(len(xx_list))\n",
    "    #print(len(yy_list))\n",
    "    \n",
    "    #print(ex_num)\n",
    "    \n",
    "    \n",
    "    length = len(poi_name1)\n",
    "    \n",
    "    file_data = {}\n",
    "    file_data[pname] = {\"fileref\" : \"\", \"size\" : \"\", \"filename\":pname, \n",
    "                        \"base64_img_data\": \"\",\"file_attributes\": {}, \"regions\":{count : {}}}\n",
    "  \n",
    "    for i in range(0, length):\n",
    "        k=str(poi_name1[i])\n",
    "        if(k==\"MD_019\"):\n",
    "            continue\n",
    "        \n",
    "        if(k==\"DT_001\"):\n",
    "            p_name = \"F1111\"\n",
    "        elif(k==\"DT_002\"):\n",
    "            p_name = \"F1112\"\n",
    "        elif(k==\"DT_127\"):\n",
    "            p_name = \"F2511\"\n",
    "        elif(k==\"DT_131\"):\n",
    "            p_name = \"F1322\"\n",
    "        elif(k==\"DT_143\"):\n",
    "            p_name = \"F2542\"\n",
    "        elif(k==\"DT_150\"):\n",
    "            p_name = \"F3342\"\n",
    "        elif(k==\"DT_177\"):\n",
    "            p_name = \"F6110\"\n",
    "        elif(k==\"SM_100\"):\n",
    "            p_name = \"F2240\"\n",
    "        elif(k==\"SM_126\"):\n",
    "            p_name = \"F3130\"\n",
    "        elif(k==\"SM_142\"):\n",
    "            p_name = \"F3330\"\n",
    "        \n",
    "        file_data[pname][\"regions\"][count]={\"shape_attributes\" :\n",
    "                                            {\"name\":\"polygon\", \n",
    "                                             \"all_points_x\":xx_list[i],\n",
    "                                             \"all_points_y\":yy_list[i]}\n",
    "                                            ,\"region_attributes\": {\"name\":p_name}}\n",
    "        \n",
    "        count+=1\n",
    "        count1+=1\n",
    "        \n",
    "    with open('C:/Users/USER/Desktop/joo/json/json1/data'+str(count1)+\".json\", 'w') as make_file:\n",
    "        json.dump(file_data, make_file, ensure_ascii=False, indent = \"\\t\")\n",
    "        \n"
   ]
  },
  {
   "cell_type": "code",
   "execution_count": null,
   "metadata": {},
   "outputs": [],
   "source": []
  },
  {
   "cell_type": "code",
   "execution_count": 1,
   "metadata": {},
   "outputs": [],
   "source": [
    "\n",
    " "
   ]
  },
  {
   "cell_type": "code",
   "execution_count": null,
   "metadata": {},
   "outputs": [],
   "source": []
  },
  {
   "cell_type": "code",
   "execution_count": null,
   "metadata": {},
   "outputs": [],
   "source": []
  }
 ],
 "metadata": {
  "kernelspec": {
   "display_name": "Python 3",
   "language": "python",
   "name": "python3"
  },
  "language_info": {
   "codemirror_mode": {
    "name": "ipython",
    "version": 3
   },
   "file_extension": ".py",
   "mimetype": "text/x-python",
   "name": "python",
   "nbconvert_exporter": "python",
   "pygments_lexer": "ipython3",
   "version": "3.7.5"
  }
 },
 "nbformat": 4,
 "nbformat_minor": 2
}
