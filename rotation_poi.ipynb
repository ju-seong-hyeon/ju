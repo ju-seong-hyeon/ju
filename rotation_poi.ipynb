{
 "cells": [
  {
   "cell_type": "code",
   "execution_count": 1,
   "metadata": {},
   "outputs": [],
   "source": [
    "import cv2\n",
    "import numpy as np\n",
    "import os, glob"
   ]
  },
  {
   "cell_type": "code",
   "execution_count": 2,
   "metadata": {
    "scrolled": true
   },
   "outputs": [],
   "source": [
    "folder = \"C:/Users/USER/Desktop/data.down/sort/poi sort/DT_143/\"\n",
    "file_list = os.listdir(folder)\n",
    "#print(file_list)\n",
    "root = \"C:/Users/USER/Desktop/joo/project/working/poi_rotation/DT_143/\"\n"
   ]
  },
  {
   "cell_type": "code",
   "execution_count": null,
   "metadata": {},
   "outputs": [],
   "source": []
  },
  {
   "cell_type": "code",
   "execution_count": 11,
   "metadata": {},
   "outputs": [],
   "source": [
    "def rotation_8():\n",
    "    for img in file_list:\n",
    "        image = cv2.imread(folder+img)\n",
    "        height, width = image.shape[:2]\n",
    "        \n",
    "        M = cv2.getRotationMatrix2D((width/2, height/2), 45, 1)\n",
    "        N = cv2.getRotationMatrix2D((width/2, height/2), 90, 1)\n",
    "        O = cv2.getRotationMatrix2D((width/2, height/2), 135, 1)\n",
    "        P = cv2.getRotationMatrix2D((width/2, height/2), 180, 1)\n",
    "        Q = cv2.getRotationMatrix2D((width/2, height/2), 225, 1)\n",
    "        R = cv2.getRotationMatrix2D((width/2, height/2), 270, 1)\n",
    "        S = cv2.getRotationMatrix2D((width/2, height/2), 315, 1)\n",
    "        \n",
    "        img_tran1 = cv2.warpAffine(image, M, (width,height))\n",
    "        img_tran2 = cv2.warpAffine(image, N, (width,height))\n",
    "        img_tran3 = cv2.warpAffine(image, O, (width,height))\n",
    "        img_tran4 = cv2.warpAffine(image, P, (width,height))\n",
    "        img_tran5 = cv2.warpAffine(image, Q, (width,height))\n",
    "        img_tran6 = cv2.warpAffine(image, R, (width,height))    \n",
    "        img_tran7 = cv2.warpAffine(image, S, (width,height))\n",
    "        \n",
    "        s = os.path.splitext(img)\n",
    "    \n",
    "        filename = root + s[0] + '45.png'\n",
    "        cv2.imwrite(filename, img_tran1)        \n",
    "        filename = root + s[0] +'90.png'\n",
    "        cv2.imwrite(filename, img_tran2)        \n",
    "        filename = root + s[0] + '135.png'\n",
    "        cv2.imwrite(filename, img_tran3)        \n",
    "        filename = root + s[0] +'180.png'\n",
    "        cv2.imwrite(filename, img_tran4)\n",
    "        filename = root + s[0] + '225.png'\n",
    "        cv2.imwrite(filename, img_tran5)       \n",
    "        filename = root + s[0] +'270.png'\n",
    "        cv2.imwrite(filename, img_tran6)\n",
    "        filename = root + s[0] + '315.png'\n",
    "        cv2.imwrite(filename, img_tran7)\n",
    "        "
   ]
  },
  {
   "cell_type": "code",
   "execution_count": 12,
   "metadata": {},
   "outputs": [],
   "source": [
    "def rotation_4():\n",
    "    for img in file_list:\n",
    "        image = cv2.imread(folder+img)\n",
    "        height, width = image.shape[:2]\n",
    "\n",
    "        N = cv2.getRotationMatrix2D((width/2, height/2), 90, 1)\n",
    "        P = cv2.getRotationMatrix2D((width/2, height/2), 180, 1)\n",
    "        S = cv2.getRotationMatrix2D((width/2, height/2), 270, 1)\n",
    "        \n",
    "        img_tran2 = cv2.warpAffine(image, N, (width,height))\n",
    "        img_tran4 = cv2.warpAffine(image, P, (width,height))  \n",
    "        img_tran7 = cv2.warpAffine(image, S, (width,height))\n",
    "        \n",
    "        s = os.path.splitext(img)\n",
    "        \n",
    "        filename = root + s[0] +'90.png'\n",
    "        cv2.imwrite(filename, img_tran2)       \n",
    "        filename = root + s[0] +'180.png'\n",
    "        cv2.imwrite(filename, img_tran4)\n",
    "        filename = root + s[0] + '270.png'\n",
    "        cv2.imwrite(filename, img_tran7)\n",
    "        "
   ]
  },
  {
   "cell_type": "code",
   "execution_count": 13,
   "metadata": {},
   "outputs": [],
   "source": [
    "#rotation_8()\n",
    "#rotation_4()"
   ]
  },
  {
   "cell_type": "code",
   "execution_count": null,
   "metadata": {},
   "outputs": [],
   "source": []
  }
 ],
 "metadata": {
  "kernelspec": {
   "display_name": "Python 3",
   "language": "python",
   "name": "python3"
  },
  "language_info": {
   "codemirror_mode": {
    "name": "ipython",
    "version": 3
   },
   "file_extension": ".py",
   "mimetype": "text/x-python",
   "name": "python",
   "nbconvert_exporter": "python",
   "pygments_lexer": "ipython3",
   "version": "3.7.5"
  }
 },
 "nbformat": 4,
 "nbformat_minor": 2
}
