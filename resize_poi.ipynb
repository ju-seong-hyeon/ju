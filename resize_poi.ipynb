{
 "cells": [
  {
   "cell_type": "code",
   "execution_count": 1,
   "metadata": {},
   "outputs": [],
   "source": [
    "import cv2\n",
    "import glob, os"
   ]
  },
  {
   "cell_type": "code",
   "execution_count": 2,
   "metadata": {},
   "outputs": [
    {
     "name": "stdout",
     "output_type": "stream",
     "text": [
      "['v.01.png', 'v.03.png', 'v.05.png', 'v.07.png', 'vv.01.png', 'vv.03.png', 'vv.05.png', 'vv.07.png', 'vvv.01.png', 'vvv.03.png', 'vvv.05.png', 'vvv.07.png']\n"
     ]
    }
   ],
   "source": [
    "file = \"C:/Users/USER\\Desktop/joo/Newfolder/fff/g/\"\n",
    "file_list = os.listdir(file)\n",
    "print(file_list)"
   ]
  },
  {
   "cell_type": "code",
   "execution_count": 3,
   "metadata": {},
   "outputs": [],
   "source": [
    "for i in file_list:\n",
    "    img = cv2.imread(file+i)\n",
    "    resize_img = cv2.resize(img, (20,10), fx=1, fy=1, interpolation=cv2.INTER_LINEAR)\n",
    "    cv2.imwrite(file+i, resize_img)"
   ]
  },
  {
   "cell_type": "code",
   "execution_count": null,
   "metadata": {},
   "outputs": [],
   "source": []
  },
  {
   "cell_type": "code",
   "execution_count": null,
   "metadata": {},
   "outputs": [],
   "source": []
  }
 ],
 "metadata": {
  "kernelspec": {
   "display_name": "Python 3",
   "language": "python",
   "name": "python3"
  },
  "language_info": {
   "codemirror_mode": {
    "name": "ipython",
    "version": 3
   },
   "file_extension": ".py",
   "mimetype": "text/x-python",
   "name": "python",
   "nbconvert_exporter": "python",
   "pygments_lexer": "ipython3",
   "version": "3.7.5"
  }
 },
 "nbformat": 4,
 "nbformat_minor": 2
}
